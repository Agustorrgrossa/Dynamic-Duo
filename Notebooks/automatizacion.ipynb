{
 "cells": [
  {
   "cell_type": "code",
   "execution_count": 1,
   "metadata": {},
   "outputs": [
    {
     "name": "stderr",
     "output_type": "stream",
     "text": [
      "C:\\Users\\Usuario\\AppData\\Local\\Temp\\ipykernel_12660\\226895849.py:2: DeprecationWarning: \n",
      "Pyarrow will become a required dependency of pandas in the next major release of pandas (pandas 3.0),\n",
      "(to allow more performant data types, such as the Arrow string type, and better interoperability with other libraries)\n",
      "but was not found to be installed on your system.\n",
      "If this would cause problems for you,\n",
      "please provide us feedback at https://github.com/pandas-dev/pandas/issues/54466\n",
      "        \n",
      "  import pandas as pd\n"
     ]
    }
   ],
   "source": [
    "#Librerias\n",
    "import pandas as pd\n",
    "import pyodbc\n",
    "import schedule\n",
    "import time\n",
    "from datetime import datetime"
   ]
  },
  {
   "cell_type": "code",
   "execution_count": 2,
   "metadata": {},
   "outputs": [],
   "source": [
    "# Configuración de la conexión a SQL Server\n",
    "server = '34.135.222.123'\n",
    "database = 'nbaplayers'\n",
    "username = 'sqlserver'\n",
    "password = 'Contraseña1'\n",
    "driver = 'ODBC Driver 17 for SQL Server'"
   ]
  },
  {
   "cell_type": "code",
   "execution_count": 3,
   "metadata": {},
   "outputs": [
    {
     "name": "stdout",
     "output_type": "stream",
     "text": [
      "Automatización de la ingesta de datos iniciada. Esperando próximas ejecuciones...\n",
      "Iniciando ingesta de datos: 2024-10-15 11:12:33.673974\n",
      "Error durante la ingesta: ('23000', \"[23000] [Microsoft][ODBC Driver 17 for SQL Server][SQL Server]Cannot insert the value NULL into column 'FG3_PCT_RANK', table 'nbaplayers.dbo.nba_stats'; column does not allow nulls. INSERT fails. (515) (SQLExecDirectW); [23000] [Microsoft][ODBC Driver 17 for SQL Server][SQL Server]The statement has been terminated. (3621)\")\n"
     ]
    },
    {
     "ename": "KeyboardInterrupt",
     "evalue": "",
     "output_type": "error",
     "traceback": [
      "\u001b[1;31m---------------------------------------------------------------------------\u001b[0m",
      "\u001b[1;31mKeyboardInterrupt\u001b[0m                         Traceback (most recent call last)",
      "Cell \u001b[1;32mIn[3], line 68\u001b[0m\n\u001b[0;32m     66\u001b[0m \u001b[38;5;66;03m# Ejecutar el proceso de automatización\u001b[39;00m\n\u001b[0;32m     67\u001b[0m \u001b[38;5;28;01mif\u001b[39;00m \u001b[38;5;18m__name__\u001b[39m \u001b[38;5;241m==\u001b[39m \u001b[38;5;124m\"\u001b[39m\u001b[38;5;124m__main__\u001b[39m\u001b[38;5;124m\"\u001b[39m:\n\u001b[1;32m---> 68\u001b[0m     \u001b[43mschedule_job\u001b[49m\u001b[43m(\u001b[49m\u001b[43m)\u001b[49m\n",
      "Cell \u001b[1;32mIn[3], line 63\u001b[0m, in \u001b[0;36mschedule_job\u001b[1;34m()\u001b[0m\n\u001b[0;32m     61\u001b[0m \u001b[38;5;28;01mwhile\u001b[39;00m \u001b[38;5;28;01mTrue\u001b[39;00m:\n\u001b[0;32m     62\u001b[0m     schedule\u001b[38;5;241m.\u001b[39mrun_pending()\n\u001b[1;32m---> 63\u001b[0m     \u001b[43mtime\u001b[49m\u001b[38;5;241;43m.\u001b[39;49m\u001b[43msleep\u001b[49m\u001b[43m(\u001b[49m\u001b[38;5;241;43m60\u001b[39;49m\u001b[43m)\u001b[49m\n",
      "\u001b[1;31mKeyboardInterrupt\u001b[0m: "
     ]
    }
   ],
   "source": [
    "\n",
    "\n",
    "\n",
    "\n",
    "# Función para la ingesta de datos\n",
    "def ingest_data():\n",
    "    try:\n",
    "        print(f\"Iniciando ingesta de datos: {datetime.now()}\")\n",
    "\n",
    "        # 1. Extracción: Leer datos del archivo CSV\n",
    "        archivo_csv = 'C:\\\\nba_stats.csv.csv'\n",
    "        df = pd.read_csv(archivo_csv)\n",
    "\n",
    "        # 2. Transformación: Limpiar los datos (opcional según tus necesidades)\n",
    "        df = df.dropna()  # Eliminar filas con valores NaN\n",
    "\n",
    "        # 3. Conectar a la base de datos SQL Server e insertar los datos\n",
    "        conexion = pyodbc.connect(\n",
    "            f'DRIVER={driver};SERVER={server};DATABASE={database};UID={username};PWD={password}'\n",
    "        )\n",
    "        cursor = conexion.cursor()\n",
    "\n",
    "        # Crear una sentencia SQL para insertar datos\n",
    "        sql_insert = \"\"\"\n",
    "            INSERT INTO nba_stats (PLAYER_ID, PLAYER_NAME, NICKNAME, TEAM_ID, TEAM_ABBREVIATION, AGE, GP, W, L, W_PCT, MIN, FGM, FGA, FG_PCT, FG3M, FG3A, FG3_PCT, FTM, FTA, FT_PCT, OREB, DREB, REB, AST, TOV, STL, BLK, BLKA, PF, PFD, PTS, PLUS_MINUS, NBA_FANTASY_PTS, DD2, TD3, WNBA_FANTASY_PTS,\n",
    "            GP_RANK, W_RANK, L_RANK, W_PCT_RANK, MIN_RANK, FGM_RANK, FGA_RANK, FG_PCT_RANK, FG3M_RANK, FG3A_RANK, FTM_RANK, FTA_RANK, FT_PCT_RANK, OREB_RANK, DREB_RANK, REB_RANK, AST_RANK, TOV_RANK, STL_RANK, BLK_RANK, BLKA_RANK, PF_RANK, PFD_RANK, PTS_RANK, PLUS_MINUS_RANK, NBA_FANTASY_PTS_RANK,\n",
    "            DD2_RANK, TD3_RANK, WNBA_FANTASY_PTS_RANK)\n",
    "            VALUES (?, ?, ?, ?, ?, ?, ?, ?, ?, ?, ?, ?, ?, ?, ?, ?, ?, ?, ?, ?, ?, ?, ?, ?, ?, ?, ?, ?, ?, ?, ?, ?, ?, ?, ?, ?, ?, ?, ?, ?, ?, ?, ?, ?, ?, ?, ?, ?, ?, ?, ?, ?, ?, ?, ?, ?, ?, ?, ?, ?, ?, ?, ?, ?, ?)\n",
    "        \"\"\"\n",
    "\n",
    "        # Recorrer el DataFrame e insertar los datos\n",
    "        for index, row in df.iterrows():\n",
    "            cursor.execute(sql_insert, (\n",
    "                row['PLAYER_ID'], row['PLAYER_NAME'], row['NICKNAME'], row['TEAM_ID'], row['TEAM_ABBREVIATION'], \n",
    "                row['AGE'], row['GP'], row['W'], row['L'], row['W_PCT'], row['MIN'], row['FGM'], row['FGA'], row['FG_PCT'], \n",
    "                row['FG3M'], row['FG3A'], row['FG3_PCT'], row['FTM'], row['FTA'], row['FT_PCT'], row['OREB'], row['DREB'], \n",
    "                row['REB'], row['AST'], row['TOV'], row['STL'], row['BLK'], row['BLKA'], row['PF'], row['PFD'], row['PTS'], \n",
    "                row['PLUS_MINUS'], row['NBA_FANTASY_PTS'], row['DD2'], row['TD3'], row['WNBA_FANTASY_PTS'], row['GP_RANK'], \n",
    "                row['W_RANK'], row['L_RANK'], row['W_PCT_RANK'], row['MIN_RANK'], row['FGM_RANK'], row['FGA_RANK'], row['FG_PCT_RANK'],\n",
    "                row['FG3M_RANK'], row['FG3A_RANK'], row['FTM_RANK'], row['FTA_RANK'], row['FT_PCT_RANK'], row['OREB_RANK'],\n",
    "                row['DREB_RANK'], row['REB_RANK'], row['AST_RANK'], row['TOV_RANK'], row['STL_RANK'], row['BLK_RANK'], row['BLKA_RANK'], \n",
    "                row['PF_RANK'], row['PFD_RANK'], row['PTS_RANK'], row['PLUS_MINUS_RANK'], row['NBA_FANTASY_PTS_RANK'], row['DD2_RANK'], \n",
    "                row['TD3_RANK'], row['WNBA_FANTASY_PTS_RANK']\n",
    "            ))\n",
    "\n",
    "        # Confirmar la transacción\n",
    "        conexion.commit()\n",
    "\n",
    "        cursor.close()\n",
    "        conexion.close()\n",
    "\n",
    "        print(f\"Ingesta completada exitosamente: {datetime.now()}\")\n",
    "\n",
    "    except Exception as e:\n",
    "        print(f\"Error durante la ingesta: {e}\")\n",
    "\n",
    "# Función para programar la tarea diaria\n",
    "def schedule_job():\n",
    "    # Programar la ingesta de datos\n",
    "    schedule.every().day.at(\"11:12\").do(ingest_data)\n",
    "\n",
    "    print(\"Automatización de la ingesta de datos iniciada. Esperando próximas ejecuciones...\")\n",
    "\n",
    "    # Bucle infinito para mantener la tarea programada corriendo\n",
    "    while True:\n",
    "        schedule.run_pending()\n",
    "        time.sleep(60)  # Verificar cada minuto si hay tareas pendientes\n",
    "\n",
    "\n",
    "# Ejecutar el proceso de automatización\n",
    "if __name__ == \"__main__\":\n",
    "    schedule_job()\n"
   ]
  }
 ],
 "metadata": {
  "kernelspec": {
   "display_name": "Python 3",
   "language": "python",
   "name": "python3"
  },
  "language_info": {
   "codemirror_mode": {
    "name": "ipython",
    "version": 3
   },
   "file_extension": ".py",
   "mimetype": "text/x-python",
   "name": "python",
   "nbconvert_exporter": "python",
   "pygments_lexer": "ipython3",
   "version": "3.11.4"
  }
 },
 "nbformat": 4,
 "nbformat_minor": 2
}
